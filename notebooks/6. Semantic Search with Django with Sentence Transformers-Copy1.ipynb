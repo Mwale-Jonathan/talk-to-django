{
 "cells": [
  {
   "cell_type": "code",
   "execution_count": 1,
   "id": "107db4bc-b2f4-4542-94e3-11eb4d50682b",
   "metadata": {},
   "outputs": [],
   "source": [
    "import setup\n",
    "setup.init_django()\n",
    "from decouple import config\n",
    "from sentence_transformers import SentenceTransformer\n",
    "\n",
    "EMBEDDING_MODEL = config(\"EMBEDDING_MODEL\", default=\"text-embedding-3-small\")\n",
    "EMBEDDING_DIMENSIONS = 1536\n",
    "RECREATE_DATA = True\n",
    "\n",
    "# 1. Load a pretrained Sentence Transformer model\n",
    "model = SentenceTransformer(\"all-MiniLM-L6-v2\")"
   ]
  },
  {
   "cell_type": "code",
   "execution_count": 2,
   "id": "c3612600-9928-4c9c-b5da-3aec58b0f844",
   "metadata": {},
   "outputs": [],
   "source": [
    "sentences = [\n",
    "    \"The weather is lovely today.\",\n",
    "    \"It's so sunny outside!\",\n",
    "    \"He drove to the stadium.\",\n",
    "]"
   ]
  },
  {
   "cell_type": "code",
   "execution_count": 3,
   "id": "59679909-c34f-4bfa-81cb-49fc7b4e37f3",
   "metadata": {},
   "outputs": [],
   "source": [
    "from blog.models import Post\n",
    "\n",
    "new_data = []\n",
    "for i,x in enumerate(sentences):\n",
    "    new_data.append(\n",
    "        Post(\n",
    "            title=f\"Blog Post #{i+1}\",\n",
    "            content=x,\n",
    "            can_delete=True\n",
    "        )\n",
    "    )\n",
    "\n",
    "if RECREATE_DATA:\n",
    "    qs = Post.objects.filter(can_delete=True)\n",
    "    qs.delete()\n",
    "    Post.objects.bulk_create(new_data)"
   ]
  },
  {
   "cell_type": "code",
   "execution_count": 4,
   "id": "4fcc1aed-e9e1-4bdb-8dee-cd80e21b20c5",
   "metadata": {},
   "outputs": [
    {
     "data": {
      "text/plain": [
       "3"
      ]
     },
     "execution_count": 4,
     "metadata": {},
     "output_type": "execute_result"
    }
   ],
   "source": [
    "qs = Post.objects.filter(can_delete=True)\n",
    "qs.count()"
   ]
  },
  {
   "cell_type": "code",
   "execution_count": 5,
   "id": "17ae2d5f-abfd-4ac7-908f-5cd9ce734cf1",
   "metadata": {},
   "outputs": [],
   "source": [
    "# def get_embedding(text):\n",
    "#     text = text.replace(\"\\n\", \" \").strip()\n",
    "#     return model.encode([text])"
   ]
  },
  {
   "cell_type": "code",
   "execution_count": 6,
   "id": "756ac7d6-b7ec-4fd9-a4d8-1ea5b6fd9a5c",
   "metadata": {},
   "outputs": [],
   "source": [
    "for obj in qs:\n",
    "    if obj.embedding is None:\n",
    "        text = obj.get_embedding_text_raw()\n",
    "        embedding = model.encode(text)\n",
    "        # Save embedding\n",
    "        if len(embedding.shape) > 1:\n",
    "            raise ValueError(f\"Expected 1D embedding, got shape {embedding.shape}\")\n",
    "        obj.embedding = embedding.tolist()\n",
    "        obj.save()"
   ]
  },
  {
   "cell_type": "code",
   "execution_count": 13,
   "id": "28b0e27d-fb55-4f88-bb9a-0b520593084d",
   "metadata": {},
   "outputs": [],
   "source": [
    "query = \"The weather is lovely today.\"\n",
    "query_embedding = model.encode(query)"
   ]
  },
  {
   "cell_type": "code",
   "execution_count": 14,
   "id": "b0e266f4-ce16-4a20-9680-0dda15d3c511",
   "metadata": {},
   "outputs": [
    {
     "name": "stdout",
     "output_type": "stream",
     "text": [
      "Blog Post #1 0.0 1.0\n",
      "Blog Post #2 0.3340447942627902 0.6659552057372098\n",
      "Blog Post #3 0.8954160033290387 0.1045839966709613\n"
     ]
    }
   ],
   "source": [
    "from pgvector.django import CosineDistance\n",
    "from django.db.models import F\n",
    "\n",
    "\n",
    "qs = Post.objects.annotate(\n",
    "    distance=CosineDistance('embedding', query_embedding),\n",
    "    similarity=1-F(\"distance\")\n",
    ").order_by(\"distance\")\n",
    "\n",
    "for obj in qs:\n",
    "    print(obj.title, obj.distance, obj.similarity)"
   ]
  },
  {
   "cell_type": "code",
   "execution_count": null,
   "id": "c910c011-6164-461c-a09e-a8e9738ce9af",
   "metadata": {},
   "outputs": [],
   "source": []
  }
 ],
 "metadata": {
  "kernelspec": {
   "display_name": "Python 3 (ipykernel)",
   "language": "python",
   "name": "python3"
  },
  "language_info": {
   "codemirror_mode": {
    "name": "ipython",
    "version": 3
   },
   "file_extension": ".py",
   "mimetype": "text/x-python",
   "name": "python",
   "nbconvert_exporter": "python",
   "pygments_lexer": "ipython3",
   "version": "3.12.6"
  }
 },
 "nbformat": 4,
 "nbformat_minor": 5
}
